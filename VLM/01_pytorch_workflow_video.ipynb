{
 "cells": [
  {
   "cell_type": "code",
   "execution_count": 26,
   "id": "10400184-2e93-46e2-862e-799c2babc840",
   "metadata": {},
   "outputs": [],
   "source": [
    "import torch\n",
    "from torch import nn # nn contains all of PyTorch's building block neural networks\n",
    "import matplotlib.pyplot as plt"
   ]
  },
  {
   "cell_type": "code",
   "execution_count": 27,
   "id": "262bd97f-e1cc-4dda-8b1b-29558a10e25c",
   "metadata": {},
   "outputs": [
    {
     "data": {
      "text/plain": [
       "'2.5.1'"
      ]
     },
     "execution_count": 27,
     "metadata": {},
     "output_type": "execute_result"
    }
   ],
   "source": [
    "torch.__version__"
   ]
  },
  {
   "cell_type": "code",
   "execution_count": 28,
   "id": "43598c52-be02-4871-bd54-e1322fca2434",
   "metadata": {},
   "outputs": [
    {
     "data": {
      "text/plain": [
       "(tensor([[0.0000],\n",
       "         [0.0200],\n",
       "         [0.0400],\n",
       "         [0.0600],\n",
       "         [0.0800],\n",
       "         [0.1000],\n",
       "         [0.1200],\n",
       "         [0.1400],\n",
       "         [0.1600],\n",
       "         [0.1800]]),\n",
       " tensor([[0.3000],\n",
       "         [0.3140],\n",
       "         [0.3280],\n",
       "         [0.3420],\n",
       "         [0.3560],\n",
       "         [0.3700],\n",
       "         [0.3840],\n",
       "         [0.3980],\n",
       "         [0.4120],\n",
       "         [0.4260]]),\n",
       " 50,\n",
       " 50)"
      ]
     },
     "execution_count": 28,
     "metadata": {},
     "output_type": "execute_result"
    }
   ],
   "source": [
    "weight = 0.7\n",
    "bias = 0.3\n",
    "start = 0\n",
    "end = 1\n",
    "step = 0.02\n",
    "X = torch.arange(start, end, step).unsqueeze(dim = 1)\n",
    "y = weight * X + bias\n",
    "X[:10], y[:10], len(X), len(y)"
   ]
  },
  {
   "cell_type": "code",
   "execution_count": 29,
   "id": "11ced8e3-abc3-4cd1-8989-ce492d974e06",
   "metadata": {},
   "outputs": [
    {
     "data": {
      "text/plain": [
       "(40, 40, 10, 10)"
      ]
     },
     "execution_count": 29,
     "metadata": {},
     "output_type": "execute_result"
    }
   ],
   "source": [
    "train_split = int(0.8*len(X))\n",
    "X_train, y_train = X[:train_split], y[:train_split]\n",
    "X_test, y_test = X[train_split:], y[train_split:]\n",
    "len(X_train), len(y_train), len(X_test), len(y_test)"
   ]
  },
  {
   "cell_type": "code",
   "execution_count": 30,
   "id": "117eb760-fc1b-4711-81c1-afac192679d0",
   "metadata": {},
   "outputs": [],
   "source": [
    "def plot_predictions(train_data = X_train,\n",
    "                     train_labels = y_train,\n",
    "                     test_data = X_test,\n",
    "                     test_labels = y_test,\n",
    "                     predictions = None):\n",
    "    plt.figure(figsize=(10, 7))\n",
    "    plt.scatter(train_data, train_labels, c= \"b\", s = 4, label = \"Training data\")\n",
    "    plt.scatter(test_data, test_labels, c = \"g\", s = 4, label = \"Test data\")\n",
    "    if predictions is not None:\n",
    "        plt.scatter(test_data, predictions, c = \"r\", label = \"Predictions\")\n",
    "    plt.legend(prop = {\"size\": 14})"
   ]
  },
  {
   "cell_type": "code",
   "execution_count": 31,
   "id": "a973f22b-3bbc-4a5a-ad58-a5101b5d44f7",
   "metadata": {},
   "outputs": [
    {
     "data": {
      "image/png": "[encoded data removed]",
      "text/plain": [
       "<Figure size 1000x700 with 1 Axes>"
      ]
     },
     "metadata": {},
     "output_type": "display_data"
    }
   ],
   "source": [
    "plot_predictions()"
   ]
  },
  {
   "cell_type": "code",
   "execution_count": 35,
   "id": "be7f121f-73e5-41dc-986c-2a1270081e6a",
   "metadata": {},
   "outputs": [],
   "source": [
    "class LinearRegressionModel(nn.Module):\n",
    "    def __init__(self):\n",
    "        super().__init__()\n",
    "        self.weights = nn.Parameter(torch.randn(1, requires_grad = True, dtype = torch.float))\n",
    "        self.bias = nn.Parameter(torch.randn(1, requires_grad = True, dtype = torch.float))\n",
    "\n",
    "    def forward(self, x: torch.Tensor) -> torch.Tensor:\n",
    "        return self.weights * x + self.bias\n",
    "        "
   ]
  },
  {
   "cell_type": "code",
   "execution_count": 38,
   "id": "3ac3c175-591a-4b74-82cf-777d25c6783b",
   "metadata": {},
   "outputs": [
    {
     "data": {
      "text/plain": [
       "[Parameter containing:\n",
       " tensor([0.3367], requires_grad=True),\n",
       " Parameter containing:\n",
       " tensor([0.1288], requires_grad=True)]"
      ]
     },
     "execution_count": 38,
     "metadata": {},
     "output_type": "execute_result"
    }
   ],
   "source": [
    "torch.manual_seed(42)\n",
    "model_0 = LinearRegressionModel()\n",
    "list(model_0.parameters()) "
   ]
  },
  {
   "cell_type": "code",
   "execution_count": 39,
   "id": "e34dd103-20db-4f94-aa49-3da4e1b4121f",
   "metadata": {},
   "outputs": [
    {
     "data": {
      "text/plain": [
       "OrderedDict([('weights', tensor([0.3367])), ('bias', tensor([0.1288]))])"
      ]
     },
     "execution_count": 39,
     "metadata": {},
     "output_type": "execute_result"
    }
   ],
   "source": [
    "model_0.state_dict()"
   ]
  },
  {
   "cell_type": "code",
   "execution_count": 40,
   "id": "10e015bd-1e7b-4bed-950f-d3dc083b791c",
   "metadata": {},
   "outputs": [
    {
     "data": {
      "text/plain": [
       "(0.7, 0.3)"
      ]
     },
     "execution_count": 40,
     "metadata": {},
     "output_type": "execute_result"
    }
   ],
   "source": [
    "weight, bias"
   ]
  },
  {
   "cell_type": "code",
   "execution_count": 42,
   "id": "2571907f-133d-4976-9dd0-e7189167cd9e",
   "metadata": {},
   "outputs": [
    {
     "data": {
      "text/plain": [
       "(tensor([[0.8000],\n",
       "         [0.8200],\n",
       "         [0.8400],\n",
       "         [0.8600],\n",
       "         [0.8800],\n",
       "         [0.9000],\n",
       "         [0.9200],\n",
       "         [0.9400],\n",
       "         [0.9600],\n",
       "         [0.9800]]),\n",
       " tensor([[0.8600],\n",
       "         [0.8740],\n",
       "         [0.8880],\n",
       "         [0.9020],\n",
       "         [0.9160],\n",
       "         [0.9300],\n",
       "         [0.9440],\n",
       "         [0.9580],\n",
       "         [0.9720],\n",
       "         [0.9860]]))"
      ]
     },
     "execution_count": 42,
     "metadata": {},
     "output_type": "execute_result"
    }
   ],
   "source": [
    "X_test, y_test"
   ]
  },
  {
   "cell_type": "code",
   "execution_count": 43,
   "id": "4f87cda1-c1ea-4984-9666-839bfbc219c0",
   "metadata": {},
   "outputs": [
    {
     "data": {
      "text/plain": [
       "tensor([[0.3982],\n",
       "        [0.4049],\n",
       "        [0.4116],\n",
       "        [0.4184],\n",
       "        [0.4251],\n",
       "        [0.4318],\n",
       "        [0.4386],\n",
       "        [0.4453],\n",
       "        [0.4520],\n",
       "        [0.4588]])"
      ]
     },
     "execution_count": 43,
     "metadata": {},
     "output_type": "execute_result"
    }
   ],
   "source": [
    "with torch.inference_mode():\n",
    "    y_preds = model_0(X_test)\n",
    "\n",
    "y_preds"
   ]
  },
  {
   "cell_type": "code",
   "execution_count": 44,
   "id": "cd26a3a8-cb42-4230-a951-8be6961f58e8",
   "metadata": {},
   "outputs": [
    {
     "data": {
      "image/png": "[encoded data removed]",
      "text/plain": [
       "<Figure size 1000x700 with 1 Axes>"
      ]
     },
     "metadata": {},
     "output_type": "display_data"
    }
   ],
   "source": [
    "plot_predictions(predictions = y_preds)"
   ]
  },
  {
   "cell_type": "code",
   "execution_count": 46,
   "id": "87121370-d11c-4ad2-aa4c-2da3332ca409",
   "metadata": {},
   "outputs": [
    {
     "data": {
      "text/plain": [
       "L1Loss()"
      ]
     },
     "execution_count": 46,
     "metadata": {},
     "output_type": "execute_result"
    }
   ],
   "source": [
    "loss_fn = nn.L1Loss()\n",
    "loss_fn"
   ]
  },
  {
   "cell_type": "code",
   "execution_count": 48,
   "id": "d5c26dd2-fe0a-46e8-b80a-e6b6595d75e5",
   "metadata": {},
   "outputs": [],
   "source": [
    "optimizer = torch.optim.SGD(params = model_0.parameters(), lr = 0.01)"
   ]
  },
  {
   "cell_type": "code",
   "execution_count": 205,
   "id": "ebfc6b8e-f7cc-4e08-91a0-cd15254b27f9",
   "metadata": {},
   "outputs": [
    {
     "name": "stdout",
     "output_type": "stream",
     "text": [
      "Loss: tensor(0.0090, grad_fn=<MeanBackward0>)\n",
      "Loss: tensor(0.0087, grad_fn=<MeanBackward0>)\n",
      "Loss: tensor(0.0083, grad_fn=<MeanBackward0>)\n",
      "Loss: tensor(0.0080, grad_fn=<MeanBackward0>)\n",
      "Loss: tensor(0.0076, grad_fn=<MeanBackward0>)\n",
      "Loss: tensor(0.0073, grad_fn=<MeanBackward0>)\n",
      "Loss: tensor(0.0069, grad_fn=<MeanBackward0>)\n",
      "Loss: tensor(0.0066, grad_fn=<MeanBackward0>)\n",
      "Loss: tensor(0.0063, grad_fn=<MeanBackward0>)\n",
      "Loss: tensor(0.0059, grad_fn=<MeanBackward0>)\n",
      "Loss: tensor(0.0056, grad_fn=<MeanBackward0>)\n",
      "Loss: tensor(0.0052, grad_fn=<MeanBackward0>)\n",
      "Loss: tensor(0.0049, grad_fn=<MeanBackward0>)\n",
      "Loss: tensor(0.0045, grad_fn=<MeanBackward0>)\n",
      "Loss: tensor(0.0042, grad_fn=<MeanBackward0>)\n",
      "Loss: tensor(0.0039, grad_fn=<MeanBackward0>)\n",
      "Loss: tensor(0.0035, grad_fn=<MeanBackward0>)\n",
      "Loss: tensor(0.0032, grad_fn=<MeanBackward0>)\n",
      "Loss: tensor(0.0028, grad_fn=<MeanBackward0>)\n",
      "Loss: tensor(0.0025, grad_fn=<MeanBackward0>)\n",
      "Loss: tensor(0.0021, grad_fn=<MeanBackward0>)\n",
      "Loss: tensor(0.0018, grad_fn=<MeanBackward0>)\n",
      "Loss: tensor(0.0015, grad_fn=<MeanBackward0>)\n",
      "Loss: tensor(0.0012, grad_fn=<MeanBackward0>)\n",
      "Loss: tensor(0.0026, grad_fn=<MeanBackward0>)\n",
      "Loss: tensor(0.0089, grad_fn=<MeanBackward0>)\n",
      "Loss: tensor(0.0026, grad_fn=<MeanBackward0>)\n",
      "Loss: tensor(0.0089, grad_fn=<MeanBackward0>)\n",
      "Loss: tensor(0.0026, grad_fn=<MeanBackward0>)\n",
      "Loss: tensor(0.0089, grad_fn=<MeanBackward0>)\n",
      "Loss: tensor(0.0026, grad_fn=<MeanBackward0>)\n",
      "Loss: tensor(0.0089, grad_fn=<MeanBackward0>)\n",
      "Loss: tensor(0.0026, grad_fn=<MeanBackward0>)\n",
      "Loss: tensor(0.0089, grad_fn=<MeanBackward0>)\n",
      "Loss: tensor(0.0026, grad_fn=<MeanBackward0>)\n",
      "Loss: tensor(0.0089, grad_fn=<MeanBackward0>)\n",
      "Loss: tensor(0.0026, grad_fn=<MeanBackward0>)\n",
      "Loss: tensor(0.0089, grad_fn=<MeanBackward0>)\n",
      "Loss: tensor(0.0026, grad_fn=<MeanBackward0>)\n",
      "Loss: tensor(0.0089, grad_fn=<MeanBackward0>)\n",
      "Loss: tensor(0.0026, grad_fn=<MeanBackward0>)\n",
      "Loss: tensor(0.0089, grad_fn=<MeanBackward0>)\n",
      "Loss: tensor(0.0026, grad_fn=<MeanBackward0>)\n",
      "Loss: tensor(0.0089, grad_fn=<MeanBackward0>)\n",
      "Loss: tensor(0.0026, grad_fn=<MeanBackward0>)\n",
      "Loss: tensor(0.0089, grad_fn=<MeanBackward0>)\n",
      "Loss: tensor(0.0026, grad_fn=<MeanBackward0>)\n",
      "Loss: tensor(0.0089, grad_fn=<MeanBackward0>)\n",
      "Loss: tensor(0.0026, grad_fn=<MeanBackward0>)\n",
      "Loss: tensor(0.0089, grad_fn=<MeanBackward0>)\n",
      "Loss: tensor(0.0026, grad_fn=<MeanBackward0>)\n",
      "Loss: tensor(0.0089, grad_fn=<MeanBackward0>)\n",
      "Loss: tensor(0.0026, grad_fn=<MeanBackward0>)\n",
      "Loss: tensor(0.0089, grad_fn=<MeanBackward0>)\n",
      "Loss: tensor(0.0026, grad_fn=<MeanBackward0>)\n",
      "Loss: tensor(0.0089, grad_fn=<MeanBackward0>)\n",
      "Loss: tensor(0.0026, grad_fn=<MeanBackward0>)\n",
      "Loss: tensor(0.0089, grad_fn=<MeanBackward0>)\n",
      "Loss: tensor(0.0026, grad_fn=<MeanBackward0>)\n",
      "Loss: tensor(0.0089, grad_fn=<MeanBackward0>)\n",
      "Loss: tensor(0.0026, grad_fn=<MeanBackward0>)\n",
      "Loss: tensor(0.0089, grad_fn=<MeanBackward0>)\n",
      "Loss: tensor(0.0026, grad_fn=<MeanBackward0>)\n",
      "Loss: tensor(0.0089, grad_fn=<MeanBackward0>)\n",
      "Loss: tensor(0.0026, grad_fn=<MeanBackward0>)\n",
      "Loss: tensor(0.0089, grad_fn=<MeanBackward0>)\n",
      "Loss: tensor(0.0026, grad_fn=<MeanBackward0>)\n",
      "Loss: tensor(0.0089, grad_fn=<MeanBackward0>)\n",
      "Loss: tensor(0.0026, grad_fn=<MeanBackward0>)\n",
      "Loss: tensor(0.0089, grad_fn=<MeanBackward0>)\n",
      "Loss: tensor(0.0026, grad_fn=<MeanBackward0>)\n",
      "Loss: tensor(0.0089, grad_fn=<MeanBackward0>)\n",
      "Loss: tensor(0.0026, grad_fn=<MeanBackward0>)\n",
      "Loss: tensor(0.0089, grad_fn=<MeanBackward0>)\n",
      "Loss: tensor(0.0026, grad_fn=<MeanBackward0>)\n",
      "Loss: tensor(0.0089, grad_fn=<MeanBackward0>)\n",
      "Loss: tensor(0.0026, grad_fn=<MeanBackward0>)\n",
      "Loss: tensor(0.0089, grad_fn=<MeanBackward0>)\n",
      "Loss: tensor(0.0026, grad_fn=<MeanBackward0>)\n",
      "Loss: tensor(0.0089, grad_fn=<MeanBackward0>)\n",
      "Loss: tensor(0.0026, grad_fn=<MeanBackward0>)\n",
      "Loss: tensor(0.0089, grad_fn=<MeanBackward0>)\n",
      "Loss: tensor(0.0026, grad_fn=<MeanBackward0>)\n",
      "Loss: tensor(0.0089, grad_fn=<MeanBackward0>)\n",
      "Loss: tensor(0.0026, grad_fn=<MeanBackward0>)\n",
      "Loss: tensor(0.0089, grad_fn=<MeanBackward0>)\n",
      "Loss: tensor(0.0026, grad_fn=<MeanBackward0>)\n",
      "Loss: tensor(0.0089, grad_fn=<MeanBackward0>)\n",
      "Loss: tensor(0.0026, grad_fn=<MeanBackward0>)\n",
      "Loss: tensor(0.0089, grad_fn=<MeanBackward0>)\n",
      "Loss: tensor(0.0026, grad_fn=<MeanBackward0>)\n",
      "Loss: tensor(0.0089, grad_fn=<MeanBackward0>)\n",
      "Loss: tensor(0.0026, grad_fn=<MeanBackward0>)\n",
      "Loss: tensor(0.0089, grad_fn=<MeanBackward0>)\n",
      "Loss: tensor(0.0026, grad_fn=<MeanBackward0>)\n",
      "Loss: tensor(0.0089, grad_fn=<MeanBackward0>)\n",
      "Loss: tensor(0.0026, grad_fn=<MeanBackward0>)\n",
      "Loss: tensor(0.0089, grad_fn=<MeanBackward0>)\n",
      "Loss: tensor(0.0026, grad_fn=<MeanBackward0>)\n",
      "Loss: tensor(0.0089, grad_fn=<MeanBackward0>)\n"
     ]
    }
   ],
   "source": [
    "epochs = 100\n",
    "for epoch in range(epochs):\n",
    "    model_0.train()\n",
    "    y_pred = model_0(X_train)\n",
    "\n",
    "    loss = loss_fn(y_pred, y_train)\n",
    "    print(f\"Loss:\",loss)\n",
    "\n",
    "    optimizer.zero_grad()\n",
    "\n",
    "    loss.backward()\n",
    "\n",
    "    optimizer.step()\n"
   ]
  },
  {
   "cell_type": "code",
   "execution_count": 206,
   "id": "170f4ac9-5769-4893-bea2-78fdc85cf51b",
   "metadata": {},
   "outputs": [
    {
     "data": {
      "text/plain": [
       "OrderedDict([('weights', tensor([0.6951])), ('bias', tensor([0.2993]))])"
      ]
     },
     "execution_count": 206,
     "metadata": {},
     "output_type": "execute_result"
    }
   ],
   "source": [
    "model_0.state_dict()"
   ]
  },
  {
   "cell_type": "code",
   "execution_count": 207,
   "id": "ab651104-df2e-4c4e-810d-edd099ff4746",
   "metadata": {},
   "outputs": [
    {
     "data": {
      "text/plain": [
       "(0.7, 0.3)"
      ]
     },
     "execution_count": 207,
     "metadata": {},
     "output_type": "execute_result"
    }
   ],
   "source": [
    "weight, bias"
   ]
  },
  {
   "cell_type": "code",
   "execution_count": 208,
   "id": "5c29fc1c-29e2-42c1-a753-72fecd9f5fec",
   "metadata": {},
   "outputs": [
    {
     "data": {
      "image/png": "[encoded data removed]",
      "text/plain": [
       "<Figure size 1000x700 with 1 Axes>"
      ]
     },
     "metadata": {},
     "output_type": "display_data"
    }
   ],
   "source": [
    "with torch.inference_mode():\n",
    "    y_predict_new = model_0(X_test)\n",
    "\n",
    "plot_predictions(predictions = y_predict_new)"
   ]
  },
  {
   "cell_type": "code",
   "execution_count": 210,
   "id": "8580d38a-9585-4202-9274-95d7a005ce00",
   "metadata": {},
   "outputs": [
    {
     "data": {
      "text/plain": [
       "LinearRegressionModel()"
      ]
     },
     "execution_count": 210,
     "metadata": {},
     "output_type": "execute_result"
    }
   ],
   "source": [
    "model_0.eval()"
   ]
  },
  {
   "cell_type": "code",
   "execution_count": 213,
   "id": "11315dea-b09e-46d5-a5a5-3d16789926ea",
   "metadata": {},
   "outputs": [],
   "source": [
    "with torch.inference_mode():\n",
    "    test_pred = model_0(X_test)\n",
    "    test_loss = loss_fn(test_pred, y_test)"
   ]
  },
  {
   "cell_type": "code",
   "execution_count": 216,
   "id": "3206296c-b216-4469-88f6-7fe07cf7076e",
   "metadata": {},
   "outputs": [
    {
     "name": "stdout",
     "output_type": "stream",
     "text": [
      "Epoch: 99 | Loss: 0.008932482451200485 | Test loss: 0.005023092031478882\n"
     ]
    }
   ],
   "source": [
    "print(f\"Epoch: {epoch} | Loss: {loss} | Test loss: {test_loss}\")"
   ]
  },
  {
   "cell_type": "code",
   "execution_count": 217,
   "id": "6d192cb7-07c2-44c0-8f6a-7767986a82db",
   "metadata": {},
   "outputs": [
    {
     "data": {
      "text/plain": [
       "WindowsPath('models/01_pytorch-workflow_modle_0.pth')"
      ]
     },
     "execution_count": 217,
     "metadata": {},
     "output_type": "execute_result"
    }
   ],
   "source": [
    "from pathlib import Path\n",
    "MODEL_PATH = Path(\"models\")\n",
    "    MODEL_PATH.mkdir(exist_ok = True, parents = True)\n",
    "\n",
    "MODEL_NAME = \"01_pytorch-workflow_modle_0.pth\"\n",
    "MODEL_SAVE_PATH = MODEL_PATH / MODEL_NAME\n",
    "\n",
    "MODEL_SAVE_PATH"
   ]
  },
  {
   "cell_type": "code",
   "execution_count": 222,
   "id": "3d036736-0b28-4b71-8afc-e312201f5383",
   "metadata": {},
   "outputs": [
    {
     "name": "stdout",
     "output_type": "stream",
     "text": [
      "Saving model to: models\\01_pytorch-workflow_modle_0.pth\n"
     ]
    }
   ],
   "source": [
    "print(f\"Saving model to: {MODEL_SAVE_PATH}\")\n",
    "torch.save(obj = model_0.state_dict(), f = MODEL_SAVE_PATH)"
   ]
  },
  {
   "cell_type": "code",
   "execution_count": 223,
   "id": "fbb02480-baed-4c1a-bda4-01bf3df1aba0",
   "metadata": {},
   "outputs": [
    {
     "data": {
      "text/plain": [
       "OrderedDict([('weights', tensor([0.6951])), ('bias', tensor([0.2993]))])"
      ]
     },
     "execution_count": 223,
     "metadata": {},
     "output_type": "execute_result"
    }
   ],
   "source": [
    "model_0.state_dict()"
   ]
  },
  {
   "cell_type": "code",
   "execution_count": 229,
   "id": "de4d9a59-475b-4560-816a-f82216f510cb",
   "metadata": {},
   "outputs": [
    {
     "name": "stderr",
     "output_type": "stream",
     "text": [
      "C:\\Users\\yj200\\AppData\\Local\\Temp\\ipykernel_50420\\1951795698.py:3: FutureWarning: You are using `torch.load` with `weights_only=False` (the current default value), which uses the default pickle module implicitly. It is possible to construct malicious pickle data which will execute arbitrary code during unpickling (See https://github.com/pytorch/pytorch/blob/main/SECURITY.md#untrusted-models for more details). In a future release, the default value for `weights_only` will be flipped to `True`. This limits the functions that could be executed during unpickling. Arbitrary objects will no longer be allowed to be loaded via this mode unless they are explicitly allowlisted by the user via `torch.serialization.add_safe_globals`. We recommend you start setting `weights_only=True` for any use case where you don't have full control of the loaded file. Please open an issue on GitHub for any issues related to this experimental feature.\n",
      "  loaded_model_0.load_state_dict(torch.load(f=MODEL_SAVE_PATH))\n"
     ]
    },
    {
     "data": {
      "text/plain": [
       "<All keys matched successfully>"
      ]
     },
     "execution_count": 229,
     "metadata": {},
     "output_type": "execute_result"
    }
   ],
   "source": [
    "loaded_model_0 = LinearRegressionModel()\n",
    "loaded_model_0.state_dict()\n",
    "loaded_model_0.load_state_dict(torch.load(f=MODEL_SAVE_PATH))"
   ]
  },
  {
   "cell_type": "code",
   "execution_count": 230,
   "id": "c2c90220-1700-4ad8-85d8-7dac97e6656b",
   "metadata": {},
   "outputs": [
    {
     "data": {
      "text/plain": [
       "OrderedDict([('weights', tensor([0.6951])), ('bias', tensor([0.2993]))])"
      ]
     },
     "execution_count": 230,
     "metadata": {},
     "output_type": "execute_result"
    }
   ],
   "source": [
    "loaded_model_0.state_dict()"
   ]
  },
  {
   "cell_type": "code",
   "execution_count": 232,
   "id": "7e79a68f-d82d-4e4b-b244-c93ce4dcdcfd",
   "metadata": {},
   "outputs": [
    {
     "data": {
      "text/plain": [
       "tensor([[0.8554],\n",
       "        [0.8693],\n",
       "        [0.8832],\n",
       "        [0.8971],\n",
       "        [0.9110],\n",
       "        [0.9249],\n",
       "        [0.9388],\n",
       "        [0.9527],\n",
       "        [0.9666],\n",
       "        [0.9805]])"
      ]
     },
     "execution_count": 232,
     "metadata": {},
     "output_type": "execute_result"
    }
   ],
   "source": [
    "loaded_model_0.eval()\n",
    "with torch.inference_mode():\n",
    "    loaded_model_0_preds = loaded_model_0(X_test)\n",
    "\n",
    "loaded_model_0_preds"
   ]
  },
  {
   "cell_type": "code",
   "execution_count": 233,
   "id": "e0da0222-2919-4af9-9469-408a6b3d30f6",
   "metadata": {},
   "outputs": [
    {
     "data": {
      "text/plain": [
       "tensor([[False],\n",
       "        [False],\n",
       "        [False],\n",
       "        [False],\n",
       "        [False],\n",
       "        [False],\n",
       "        [False],\n",
       "        [False],\n",
       "        [False],\n",
       "        [False]])"
      ]
     },
     "execution_count": 233,
     "metadata": {},
     "output_type": "execute_result"
    }
   ],
   "source": [
    "y_preds == loaded_model_0_preds"
   ]
  },
  {
   "cell_type": "code",
   "execution_count": 235,
   "id": "e20110de-0986-48a3-a21a-a8e421aca1fc",
   "metadata": {},
   "outputs": [
    {
     "data": {
      "text/plain": [
       "tensor([[True],\n",
       "        [True],\n",
       "        [True],\n",
       "        [True],\n",
       "        [True],\n",
       "        [True],\n",
       "        [True],\n",
       "        [True],\n",
       "        [True],\n",
       "        [True]])"
      ]
     },
     "execution_count": 235,
     "metadata": {},
     "output_type": "execute_result"
    }
   ],
   "source": [
    "model_0.eval()\n",
    "with torch.inference_mode():\n",
    "    y_preds = model_0(X_test)\n",
    "\n",
    "y_preds\n",
    "\n",
    "y_preds == loaded_model_0_preds"
   ]
  }
 ],
 "metadata": {
  "kernelspec": {
   "display_name": "Python 3 (ipykernel)",
   "language": "python",
   "name": "python3"
  },
  "language_info": {
   "codemirror_mode": {
    "name": "ipython",
    "version": 3
   },
   "file_extension": ".py",
   "mimetype": "text/x-python",
   "name": "python",
   "nbconvert_exporter": "python",
   "pygments_lexer": "ipython3",
   "version": "3.12.10"
  }
 },
 "nbformat": 4,
 "nbformat_minor": 5
}
